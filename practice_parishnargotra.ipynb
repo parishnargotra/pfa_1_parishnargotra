{
 "cells": [
  {
   "cell_type": "code",
   "execution_count": 1,
   "id": "949531bb",
   "metadata": {},
   "outputs": [
    {
     "name": "stdout",
     "output_type": "stream",
     "text": [
      "No. is smaller than 10\n",
      "This statement will always be executed\n"
     ]
    }
   ],
   "source": [
    "num=5\n",
    "if num<10:\n",
    "    print(\"No. is smaller than 10\")\n",
    "print(\"This statement will always be executed\")"
   ]
  },
  {
   "cell_type": "code",
   "execution_count": 3,
   "id": "f3d1b359",
   "metadata": {},
   "outputs": [
    {
     "name": "stdout",
     "output_type": "stream",
     "text": [
      "passing_score: 65\n",
      "my_score: 45\n",
      "Congratulations! You have passed your exam\n"
     ]
    }
   ],
   "source": [
    "x=float(input(\"passing_score: \"))\n",
    "y=float(input(\"my_score: \"))\n",
    "if x>=60:\n",
    "    print(\"Congratulations! You have passed your exam\")\n",
    "else:\n",
    "    print(\"you need to work hard\")"
   ]
  },
  {
   "cell_type": "code",
   "execution_count": 12,
   "id": "4c2c307b",
   "metadata": {},
   "outputs": [
    {
     "name": "stdout",
     "output_type": "stream",
     "text": [
      "number is positive\n",
      "number is less than 10\n"
     ]
    }
   ],
   "source": [
    "num=5\n",
    "if num>0 and num<10:\n",
    "    print(\"number is positive\")\n",
    "    print(\"number is less than 10\")\n",
    "    "
   ]
  },
  {
   "cell_type": "code",
   "execution_count": 5,
   "id": "6ea1e38e",
   "metadata": {},
   "outputs": [
    {
     "name": "stdout",
     "output_type": "stream",
     "text": [
      "Number is greater than 0\n"
     ]
    }
   ],
   "source": [
    "n=5\n",
    "if n!=0:\n",
    "    if n>0:\n",
    "        print(\"Number is greater than 0\")\n",
    "        "
   ]
  },
  {
   "cell_type": "code",
   "execution_count": 11,
   "id": "f5caaea6",
   "metadata": {},
   "outputs": [
    {
     "name": "stdout",
     "output_type": "stream",
     "text": [
      "number1: 10\n",
      "number2: 20\n",
      "number3: 30\n",
      "All conditions are true\n"
     ]
    }
   ],
   "source": [
    "num1=float(input(\"number1: \"))\n",
    "num2=float(input(\"number2: \"))\n",
    "num3=float(input(\"number3: \"))\n",
    "if num1==10 and num2==20 and num3==30:\n",
    "    print(\"All conditions are true\")\n"
   ]
  },
  {
   "cell_type": "code",
   "execution_count": 10,
   "id": "919eb79a",
   "metadata": {},
   "outputs": [
    {
     "name": "stdout",
     "output_type": "stream",
     "text": [
      "name of the fruit: Grapes\n",
      "Its a fruit\n"
     ]
    }
   ],
   "source": [
    "x=input(\"name of the fruit: \")\n",
    "if x==\"Mango\" or x==\"Apple\" or x==\"Grapes\":\n",
    "    print(\"Its a fruit\")"
   ]
  },
  {
   "cell_type": "code",
   "execution_count": 13,
   "id": "cc436135",
   "metadata": {},
   "outputs": [
    {
     "name": "stdout",
     "output_type": "stream",
     "text": [
      "Apple\n",
      "Mango\n",
      "Banana\n",
      "Grapes\n",
      "Litchi\n"
     ]
    }
   ],
   "source": [
    "x=[\"Apple\", \"Mango\", \"Banana\", \"Grapes\", \"Litchi\"]\n",
    "for i in x:\n",
    "    print(i)"
   ]
  },
  {
   "cell_type": "code",
   "execution_count": 14,
   "id": "c0de64f1",
   "metadata": {},
   "outputs": [
    {
     "name": "stdout",
     "output_type": "stream",
     "text": [
      "1 9.0\n",
      "2 25.0\n",
      "3 12.333333333333334\n",
      "4 3.8333333333333335\n",
      "5 15.566666666666666\n",
      "6 5.094444444444444\n",
      "Average of list is  5.094444444444444\n"
     ]
    }
   ],
   "source": [
    "average=0\n",
    "c=0\n",
    "x=[9,41,12,3,74,15]\n",
    "for i in x:\n",
    "    average = (average + i)/(c+1)\n",
    "    c=c+1\n",
    "    print(c, average)\n",
    "print('Average of list is ',average)"
   ]
  },
  {
   "cell_type": "code",
   "execution_count": null,
   "id": "f281536a",
   "metadata": {},
   "outputs": [],
   "source": []
  }
 ],
 "metadata": {
  "kernelspec": {
   "display_name": "Python 3",
   "language": "python",
   "name": "python3"
  },
  "language_info": {
   "codemirror_mode": {
    "name": "ipython",
    "version": 3
   },
   "file_extension": ".py",
   "mimetype": "text/x-python",
   "name": "python",
   "nbconvert_exporter": "python",
   "pygments_lexer": "ipython3",
   "version": "3.8.8"
  }
 },
 "nbformat": 4,
 "nbformat_minor": 5
}
