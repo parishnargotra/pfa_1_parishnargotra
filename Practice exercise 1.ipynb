{
 "cells": [
  {
   "cell_type": "code",
   "execution_count": 7,
   "id": "1904d64e",
   "metadata": {},
   "outputs": [
    {
     "name": "stdout",
     "output_type": "stream",
     "text": [
      "[12, 35, 9, 56, 24]\n",
      "[24, 35, 9, 56, 12]\n",
      "[1, 2, 3]\n",
      "[3, 2, 1]\n"
     ]
    }
   ],
   "source": [
    "r=list()\n",
    "r.append(12)\n",
    "r.append(35)\n",
    "r.append(9)\n",
    "r.append(56)\n",
    "r.append(24)\n",
    "print(r)\n",
    "r[0]=24\n",
    "r[4]=12\n",
    "print(r)\n",
    "u=list()\n",
    "u.append(1)\n",
    "u.append(2)\n",
    "u.append(3)\n",
    "print(u)\n",
    "u[0]=3\n",
    "u[2]=1\n",
    "print(u)"
   ]
  },
  {
   "cell_type": "code",
   "execution_count": 2,
   "id": "69a7a0e8",
   "metadata": {},
   "outputs": [
    {
     "name": "stdout",
     "output_type": "stream",
     "text": [
      "5\n"
     ]
    }
   ],
   "source": [
    "t=[1,4,5,7,8]\n",
    "print(len(t))"
   ]
  },
  {
   "cell_type": "code",
   "execution_count": 3,
   "id": "bae79cbd",
   "metadata": {},
   "outputs": [
    {
     "name": "stdout",
     "output_type": "stream",
     "text": [
      "['Geeks', 'Are', 'For', 'Geeks']\n",
      "length of the list is 4\n"
     ]
    }
   ],
   "source": [
    "y=list()\n",
    "y.append(\"Geeks\")\n",
    "y.append(\"Are\")\n",
    "y.append(\"For\")\n",
    "y.append(\"Geeks\")\n",
    "print(y)\n",
    "print(\"length of the list is\", len(y))"
   ]
  },
  {
   "cell_type": "code",
   "execution_count": 4,
   "id": "ab32105d",
   "metadata": {},
   "outputs": [
    {
     "name": "stdout",
     "output_type": "stream",
     "text": [
      "4\n",
      "2\n",
      "-1\n",
      "-4\n"
     ]
    }
   ],
   "source": [
    "s=[2,4]\n",
    "print(max(s))\n",
    "print(min(s))\n",
    "d=[-1, -4]\n",
    "print(max(d))\n",
    "print(min(d))"
   ]
  },
  {
   "cell_type": "code",
   "execution_count": null,
   "id": "241f8c11",
   "metadata": {},
   "outputs": [],
   "source": []
  }
 ],
 "metadata": {
  "kernelspec": {
   "display_name": "Python 3",
   "language": "python",
   "name": "python3"
  },
  "language_info": {
   "codemirror_mode": {
    "name": "ipython",
    "version": 3
   },
   "file_extension": ".py",
   "mimetype": "text/x-python",
   "name": "python",
   "nbconvert_exporter": "python",
   "pygments_lexer": "ipython3",
   "version": "3.8.8"
  }
 },
 "nbformat": 4,
 "nbformat_minor": 5
}
