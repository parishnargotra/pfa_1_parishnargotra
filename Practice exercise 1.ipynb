{
 "cells": [
  {
   "cell_type": "code",
   "execution_count": 11,
   "id": "1904d64e",
   "metadata": {},
   "outputs": [
    {
     "name": "stdout",
     "output_type": "stream",
     "text": [
      "enter the elements: 5\n",
      "enter the number: 12\n",
      "enter the number: 35\n",
      "enter the number: 56\n",
      "enter the number: 9\n",
      "enter the number: 24\n",
      "['12', '35', '56', '9', '24']\n",
      "['24', '35', '56', '9', '12']\n",
      "enter the elements: 3\n",
      "enter the numbers: 3\n",
      "enter the numbers: 2\n",
      "enter the numbers: 1\n",
      "['3', '2', '1']\n",
      "['1', '2', '3']\n"
     ]
    }
   ],
   "source": [
    "#create an empty list\n",
    "r=[]\n",
    "x=int(input(\"enter the elements: \"))\n",
    "for i in range(x):\n",
    "#give input\n",
    "    y=input(\"enter the number: \")\n",
    "    r.append(y)\n",
    "print(r)\n",
    "#change elements from the list\n",
    "a=r[0]\n",
    "r[0]=r[-1]\n",
    "r[-1]=a\n",
    "#print the list\n",
    "print(r)\n",
    "#create an empty list\n",
    "rr=[]\n",
    "xx=int(input(\"enter the elements: \"))\n",
    "for i in range(xx):\n",
    "#give input\n",
    "    yy=input(\"enter the numbers: \")\n",
    "    rr.append(yy)\n",
    "print(rr)\n",
    "#change elements from the list\n",
    "a=r[0]\n",
    "c=rr[0]\n",
    "rr[0]=rr[-1]\n",
    "rr[-1]=c\n",
    "#print the list\n",
    "print(rr)"
   ]
  },
  {
   "cell_type": "code",
   "execution_count": 2,
   "id": "69a7a0e8",
   "metadata": {},
   "outputs": [
    {
     "name": "stdout",
     "output_type": "stream",
     "text": [
      "5\n"
     ]
    }
   ],
   "source": [
    "#create list\n",
    "t=[1,4,5,7,8]\n",
    "#print length of list\n",
    "print(len(t))"
   ]
  },
  {
   "cell_type": "code",
   "execution_count": 5,
   "id": "bae79cbd",
   "metadata": {},
   "outputs": [
    {
     "name": "stdout",
     "output_type": "stream",
     "text": [
      "Enter the elements : 4\n",
      "enter the strings: Geeks\n",
      "enter the strings: Are\n",
      "enter the strings: For\n",
      "enter the strings: Geeks\n",
      "['Geeks', 'Are', 'For', 'Geeks']\n",
      "length of the list is 4\n"
     ]
    }
   ],
   "source": [
    "#create empty list\n",
    "y=list()\n",
    "#append values in list by giving input\n",
    "z=int(input(\"Enter the elements : \"))\n",
    "for i in range(z):\n",
    "    c=input(\"enter the strings: \")\n",
    "    y.append(c)\n",
    "#pirnt list\n",
    "print(y)\n",
    "#print length of list\n",
    "print(\"length of the list is\", len(y))"
   ]
  },
  {
   "cell_type": "code",
   "execution_count": 10,
   "id": "ab32105d",
   "metadata": {},
   "outputs": [
    {
     "name": "stdout",
     "output_type": "stream",
     "text": [
      "Enter the 1st number : 2\n",
      "Enter the 2nd numbers: 4\n",
      "4\n",
      "Enter the 1st number: -1\n",
      "Enter the 2nd number: -4\n",
      "-4\n"
     ]
    }
   ],
   "source": [
    "#give input\n",
    "d=int(input(\"Enter the 1st number : \"))\n",
    "m=int(input(\"Enter the 2nd numbers: \"))\n",
    "#create an empty list\n",
    "s=[]\n",
    "#append the input to the list\n",
    "s.append(d)\n",
    "s.append(m)\n",
    "#print the maximum element from the list\n",
    "print(max(s))\n",
    "#give input\n",
    "ss=int(input(\"Enter the 1st number: \"))\n",
    "yy=int(input(\"Enter the 2nd number: \"))\n",
    "#create an empty list\n",
    "dd=[]\n",
    "#append the input to the list\n",
    "dd.append(ss)\n",
    "dd.append(yy)\n",
    "#print the maximum element from the list\n",
    "print(min(dd))"
   ]
  },
  {
   "cell_type": "code",
   "execution_count": null,
   "id": "241f8c11",
   "metadata": {},
   "outputs": [],
   "source": []
  }
 ],
 "metadata": {
  "kernelspec": {
   "display_name": "Python 3",
   "language": "python",
   "name": "python3"
  }
 },
 "nbformat": 4,
 "nbformat_minor": 5
}
